{
 "cells": [
  {
   "cell_type": "markdown",
   "metadata": {},
   "source": [
    "# College Scorecard Exploratory Analysis (WIP)"
   ]
  },
  {
   "cell_type": "markdown",
   "metadata": {},
   "source": [
    "### Module Imports"
   ]
  },
  {
   "cell_type": "code",
   "execution_count": 1,
   "metadata": {
    "collapsed": false
   },
   "outputs": [
    {
     "name": "stderr",
     "output_type": "stream",
     "text": [
      "[INFO] GraphLab Create v1.8.3 started. Logging: /tmp/graphlab_server_1457291947.log\n"
     ]
    }
   ],
   "source": [
    "import graphlab as gl\n",
    "import pandas as pd\n",
    "import numpy as np\n",
    "import matplotlib.pyplot as plt\n",
    "\n",
    "%matplotlib inline"
   ]
  },
  {
   "cell_type": "code",
   "execution_count": 2,
   "metadata": {
    "collapsed": false
   },
   "outputs": [],
   "source": [
    "frame = gl.SFrame.read_csv('~/Documents/kaggle/deptedu/CollegeScorecard_Raw_Data/MERGED2005_PP.csv',verbose=False)"
   ]
  },
  {
   "cell_type": "code",
   "execution_count": 3,
   "metadata": {
    "collapsed": false
   },
   "outputs": [
    {
     "data": {
      "text/plain": [
       "['\\xef\\xbb\\xbfUNITID',\n",
       " 'OPEID',\n",
       " 'opeid6',\n",
       " 'INSTNM',\n",
       " 'CITY',\n",
       " 'STABBR',\n",
       " 'ZIP',\n",
       " 'AccredAgency',\n",
       " 'INSTURL',\n",
       " 'NPCURL']"
      ]
     },
     "execution_count": 3,
     "metadata": {},
     "output_type": "execute_result"
    }
   ],
   "source": [
    "frame.column_names()[:10]"
   ]
  },
  {
   "cell_type": "markdown",
   "metadata": {},
   "source": [
    "###### There is a column for mean earnings 6 years after enrollment"
   ]
  },
  {
   "cell_type": "code",
   "execution_count": 4,
   "metadata": {
    "collapsed": false
   },
   "outputs": [
    {
     "data": {
      "text/plain": [
       "dtype: str\n",
       "Rows: 5436\n",
       "['29400', '39500', '45200', '41200', '24100', '38800', '25600', '35100', '32800', '44000', '23500', '37300', '26000', '21100', '32500', '25400', '25400', '37800', '20500', '26900', '26900', '28000', '23100', '34300', '31400', 'PrivacySuppressed', '24900', '32200', '27300', '29700', '27000', '27900', '23500', '32300', '24500', '34500', '26100', '36500', '30800', '25600', '33100', '27600', '30300', '23000', 'PrivacySuppressed', '21600', '23700', '41000', '24200', '26800', '36300', 'PrivacySuppressed', '36700', '29400', '25100', '27200', '22200', '35900', '33600', 'PrivacySuppressed', '25700', '34700', '32300', '30900', '41600', '28500', '37400', '34700', '39000', '28500', '31500', '30800', '26300', '23600', 'PrivacySuppressed', 'PrivacySuppressed', '35100', '28500', '26100', '17600', '32700', '24000', '46300', '27200', '44200', '26200', '29600', '27600', '26700', 'PrivacySuppressed', '29900', '20400', '20400', '28200', '18700', '42700', '24900', '27100', '47300', '34500', ... ]"
      ]
     },
     "execution_count": 4,
     "metadata": {},
     "output_type": "execute_result"
    }
   ],
   "source": [
    "frame['mn_earn_wne_p6']"
   ]
  },
  {
   "cell_type": "code",
   "execution_count": 5,
   "metadata": {
    "collapsed": false
   },
   "outputs": [
    {
     "data": {
      "text/plain": [
       "(5436, 1729)"
      ]
     },
     "execution_count": 5,
     "metadata": {},
     "output_type": "execute_result"
    }
   ],
   "source": [
    "frame.shape"
   ]
  },
  {
   "cell_type": "markdown",
   "metadata": {},
   "source": [
    "###### There is a file that contains data for most recent cohorts. Download it here: https://s3.amazonaws.com/ed-college-choice-public/Most+Recent+Cohorts+(All+Data+Elements).csv"
   ]
  },
  {
   "cell_type": "code",
   "execution_count": 6,
   "metadata": {
    "collapsed": true
   },
   "outputs": [],
   "source": [
    "most_recent = gl.SFrame.read_csv('~/Documents/kaggle/deptedu/most_recent_data.csv',verbose=False)"
   ]
  },
  {
   "cell_type": "markdown",
   "metadata": {
    "collapsed": true
   },
   "source": [
    "###### Take a look at the earnings data"
   ]
  },
  {
   "cell_type": "code",
   "execution_count": 7,
   "metadata": {
    "collapsed": false
   },
   "outputs": [
    {
     "data": {
      "text/plain": [
       "dtype: str\n",
       "Rows: 7482\n",
       "['26100', '37400', '38500', '39300', '21200', '35700', '25300', '34600', '30400', '39300', '30200', '25100', '19900', '38200', '31100', '25500', '34300', '23200', 'NULL', '24000', '28400', '23000', '31900', '32000', 'PrivacySuppressed', '21800', '29800', '25500', '27200', '26400', '20700', '22200', '31400', '24200', '30300', '21700', '31600', '26800', '24000', '30600', '24600', '27400', '23400', 'PrivacySuppressed', '24200', '22300', '41000', 'PrivacySuppressed', '23600', '23900', '34400', '34700', '34000', '27400', '17900', '22400', '33600', '33600', '33600', '33600', '33600', 'NULL', '30600', 'PrivacySuppressed', '25900', '40800', 'NULL', '35000', '32400', '39900', '35900', '36500', '40800', '28500', '24600', '24100', '17800', '20000', '102400', 'NULL', 'PrivacySuppressed', '29100', '23900', '23900', '23900', '20400', '14500', '27500', '20500', '39500', '24400', '38300', '24900', '22800', '25800', '26800', '15900', '27700', '19700', '19700', ... ]"
      ]
     },
     "execution_count": 7,
     "metadata": {},
     "output_type": "execute_result"
    }
   ],
   "source": [
    "most_recent['mn_earn_wne_p6']"
   ]
  },
  {
   "cell_type": "markdown",
   "metadata": {},
   "source": [
    "###### Seems it was coerced to string in the SFrame reading. Need to kill 'NULL'  and  'PrivacySuppressed' values."
   ]
  },
  {
   "cell_type": "code",
   "execution_count": 8,
   "metadata": {
    "collapsed": false
   },
   "outputs": [],
   "source": [
    "def kill_null(x):\n",
    "    if x == 'NULL' or x == 'PrivacySuppressed':\n",
    "        x = None\n",
    "    return x"
   ]
  },
  {
   "cell_type": "code",
   "execution_count": 9,
   "metadata": {
    "collapsed": true
   },
   "outputs": [],
   "source": [
    "earnings_p6 = most_recent['mn_earn_wne_p6'].apply(kill_null)"
   ]
  },
  {
   "cell_type": "code",
   "execution_count": 10,
   "metadata": {
    "collapsed": false
   },
   "outputs": [],
   "source": [
    "earnings_p6 = earnings_p6.astype(float)"
   ]
  },
  {
   "cell_type": "code",
   "execution_count": 11,
   "metadata": {
    "collapsed": false
   },
   "outputs": [
    {
     "data": {
      "text/plain": [
       "(7482, 1728)"
      ]
     },
     "execution_count": 11,
     "metadata": {},
     "output_type": "execute_result"
    }
   ],
   "source": [
    "most_recent.shape"
   ]
  },
  {
   "cell_type": "markdown",
   "metadata": {},
   "source": [
    "###### Now we can begin basic exploration of the data."
   ]
  },
  {
   "cell_type": "code",
   "execution_count": 12,
   "metadata": {
    "collapsed": false
   },
   "outputs": [
    {
     "data": {
      "image/png": "[encoded data removed]",
      "text/plain": [
       "<matplotlib.figure.Figure at 0x7f6ad8b68a10>"
      ]
     },
     "metadata": {},
     "output_type": "display_data"
    }
   ],
   "source": [
    "plt.scatter(range(most_recent.shape[0]),earnings_p6)\n",
    "plt.show()"
   ]
  },
  {
   "cell_type": "code",
   "execution_count": null,
   "metadata": {
    "collapsed": true
   },
   "outputs": [],
   "source": []
  }
 ],
 "metadata": {
  "kernelspec": {
   "display_name": "Python 2",
   "language": "python",
   "name": "python2"
  },
  "language_info": {
   "codemirror_mode": {
    "name": "ipython",
    "version": 2
   },
   "file_extension": ".py",
   "mimetype": "text/x-python",
   "name": "python",
   "nbconvert_exporter": "python",
   "pygments_lexer": "ipython2",
   "version": "2.7.11"
  }
 },
 "nbformat": 4,
 "nbformat_minor": 0
}
